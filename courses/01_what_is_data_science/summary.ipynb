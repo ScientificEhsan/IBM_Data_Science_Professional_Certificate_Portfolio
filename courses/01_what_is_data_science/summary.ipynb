{
 "cells": [
  {
   "cell_type": "markdown",
   "metadata": {},
   "source": [
    "# What Is Data Science? Course Summary\\n",
    "\\n",
    "*This notebook will summarize key concepts from Course 01.*"
   ]
  }
 ],
 "metadata": {},
 "nbformat": 4,
 "nbformat_minor": 5
}
