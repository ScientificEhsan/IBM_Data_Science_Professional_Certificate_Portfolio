{
 "cells": [
  {
   "cell_type": "markdown",
   "metadata": {},
   "source": [
    "# Open Source Tools for Data Science Summary\\n",
    "\\n",
    "This notebook will list and demonstrate the open source tools covered in Course 02."
   ]
  }
 ],
 "metadata": {},
 "nbformat": 4,
 "nbformat_minor": 5
}
